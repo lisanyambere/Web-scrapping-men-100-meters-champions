{
  "nbformat": 4,
  "nbformat_minor": 0,
  "metadata": {
    "colab": {
      "provenance": [],
      "authorship_tag": "ABX9TyOl6ZoChMZUuH+r8aVrELFq",
      "include_colab_link": true
    },
    "kernelspec": {
      "name": "python3",
      "display_name": "Python 3"
    },
    "language_info": {
      "name": "python"
    }
  },
  "cells": [
    {
      "cell_type": "markdown",
      "metadata": {
        "id": "view-in-github",
        "colab_type": "text"
      },
      "source": [
        "<a href=\"https://colab.research.google.com/github/lisanyambere/Web-scrapping-men-100-meters-champions/blob/main/Athletes.ipynb\" target=\"_parent\"><img src=\"https://colab.research.google.com/assets/colab-badge.svg\" alt=\"Open In Colab\"/></a>"
      ]
    },
    {
      "cell_type": "code",
      "execution_count": null,
      "metadata": {
        "colab": {
          "base_uri": "https://localhost:8080/"
        },
        "id": "_OdkchbTmAX3",
        "outputId": "7ffe7b1f-9fd7-42fe-e472-52ba750b6e8e"
      },
      "outputs": [
        {
          "output_type": "stream",
          "name": "stdout",
          "text": [
            "Requirement already satisfied: beautifulsoup4 in /usr/local/lib/python3.10/dist-packages (4.12.3)\n",
            "Requirement already satisfied: soupsieve>1.2 in /usr/local/lib/python3.10/dist-packages (from beautifulsoup4) (2.5)\n"
          ]
        }
      ],
      "source": [
        "!pip install beautifulsoup4\n",
        "!pip install requests"
      ]
    },
    {
      "cell_type": "code",
      "source": [
        "import requests\n",
        "import pandas as pd\n",
        "import datetime\n",
        "from bs4 import BeautifulSoup\n",
        "# get url\n",
        "page_number=1\n",
        "url=\"https://www.worldathletics.org/records/all-time-toplists/sprints/100-metres/outdoor/men/senior?regionType=world&timing=electronic&windReading=regular&page={}&bestResultsOnly=false&firstDay=1958-01-01&lastDay=2021-09-20\"\n",
        "#get responses\n",
        "response = requests.get(url)\n",
        "# check the status\n",
        "status = response.status_code\n",
        "print(status)\n",
        "content=response.content\n",
        "soup = BeautifulSoup(content, 'html.parser')\n",
        "print(soup.title)\n",
        "\n"
      ],
      "metadata": {
        "colab": {
          "base_uri": "https://localhost:8080/"
        },
        "id": "qJcbXUg9omIy",
        "outputId": "069af4d6-1722-4afd-e196-fae3192f9da1"
      },
      "execution_count": 23,
      "outputs": [
        {
          "output_type": "stream",
          "name": "stdout",
          "text": [
            "200\n",
            "<title>\n",
            "        100 Metres - men - senior - all  \n",
            "    </title>\n"
          ]
        }
      ]
    },
    {
      "cell_type": "code",
      "source": [
        "if status==200:\n",
        "  content = response.content\n",
        "  soup = BeautifulSoup(content, 'html.parser')\n",
        "\n",
        "\n",
        "    # Define empty lists to store data\n",
        "  Rank = []\n",
        "  Competitor = []\n",
        "  Time_taken = []\n",
        "  Nat = []\n",
        "  DOB=[]\n",
        "  Venue=[]\n",
        "  Date_race = []\n",
        "\n",
        "    #find all rows with athletic data\n",
        "  data_rows = soup.find_all(\"tr\", class_=\"DataTable__Row\")\n",
        "    #\n",
        "  for row in data_rows:\n",
        "\n",
        "\n",
        "    # Extract data from each cell\n",
        "     ranking_cell = row.find(\"td\", class_=\"DataTable__Cell\")\n",
        "     athlete_cell = row.find(\"a\", class_=\"TextLink\")\n",
        "     time_cell = row.find(\"td\", attrs={\"data-th\": \"Time\"})\n",
        "     nationality_cell = row.find(\"span\", class_=\"Tooltip--trigger\")\n",
        "     date_cell = row.find(\"td\", attrs={\"data-th\": \"Date\"})\n",
        "     # Look for DoB in a different cell or element\n",
        "     dob_cell = row.find(\"td\", attrs={\"data-th\": \"Date of Birth\"})\n",
        "     if not dob_cell:\n",
        "      dob_cell = row.find(\"span\", text=\"Date of Birth:\")  # Alternative DoB element (adjust)\n",
        "\n",
        "        # Look for venue in a different cell or element\n",
        "     venue_cell = row.find(\"a\", class_=\"TextLink\", attrs={\"data-th\": \"Venue\"})\n",
        "     if not venue_cell:\n",
        "      venue_cell = row.find(\"td\", attrs={\"data-th\": \"Venue\"})\n",
        "\n",
        "        # Extract and clean text content\n",
        "     Ranks= ranking_cell.text.strip() if ranking_cell else None\n",
        "     Name = athlete_cell.text.strip() if athlete_cell else None\n",
        "     Time_took = time_cell.text.strip() if time_cell else None\n",
        "     Nationality = nationality_cell.text.strip() if nationality_cell else None\n",
        "     Dateofrace = date_cell.text.strip() if date_cell else None\n",
        "     DoB=dob_cell.text.strip() if dob_cell else None\n",
        "     venue=venue_cell.text.strip() if venue_cell else None\n",
        "        # Append data to lists\n",
        "     Rank.append(Ranks)\n",
        "     Competitor.append(Name)\n",
        "     Time_taken.append(Time_took)\n",
        "     Nat.append(Nationality)\n",
        "     Date_race.append(Dateofrace)\n",
        "     DOB.append(DoB)\n",
        "     Venue.append(venue)\n",
        "\n",
        "        #Create DataFrame from lists\n",
        "     df = pd.DataFrame({\n",
        "         \"Rank\": Rank,\n",
        "         \"Athlete\": Competitor,\n",
        "         \"Time\": Time_taken,\n",
        "         \"Nationality\": Nat,\n",
        "         \"Date\": Date_race,\n",
        "         \"DOB\": DOB,\n",
        "         \"Venue\":Venue\n",
        "    })\n",
        "     print(df.to_string())  # Print the DataFrame\n",
        "else:\n",
        "    print(\"Error: Request failed with status code\", status)\n",
        "    page_number += 1\n",
        "\n",
        "\n",
        "\n",
        "\n",
        "\n",
        "\n"
      ],
      "metadata": {
        "id": "Y55rPsf0tYiV"
      },
      "execution_count": 29,
      "outputs": []
    },
    {
      "cell_type": "code",
      "source": [],
      "metadata": {
        "id": "ufJO4kjQ5mvj"
      },
      "execution_count": null,
      "outputs": []
    }
  ]
}